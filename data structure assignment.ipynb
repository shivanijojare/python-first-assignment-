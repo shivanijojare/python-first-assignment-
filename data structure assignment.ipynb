{
 "cells": [
  {
   "cell_type": "markdown",
   "id": "accf482f-a225-4369-8e6b-a73531a98a50",
   "metadata": {},
   "source": [
    "### Q1)  Discuss string slicing and provide examples?\n"
   ]
  },
  {
   "cell_type": "markdown",
   "id": "f880cd5f-0ee6-4729-858b-48fed8ad0229",
   "metadata": {},
   "source": [
    "ans:- \"\"\"String slicing in Python allows you to extract a portion of a string by specifying the start, stop, and step values. It gives you fine control over how to slice and retrieve specific parts of the string. Slicing is particularly useful when you want to manipulate parts of a string.\n",
    "\n",
    "Basic Syntax:\n",
    "\n",
    "string[start:stop:step]\n",
    "Parameters:\n",
    "start: The index where the slicing starts (inclusive).\n",
    "stop: The index where slicing ends (exclusive).\n",
    "step: The interval or \"step\" between characters (optional, default is 1)\"\"\"\n",
    "\n",
    "\n"
   ]
  },
  {
   "cell_type": "code",
   "execution_count": 4,
   "id": "e82d55de-9760-43a7-bb80-65df73a2f04d",
   "metadata": {},
   "outputs": [
    {
     "name": "stdout",
     "output_type": "stream",
     "text": [
      "llo\n"
     ]
    }
   ],
   "source": [
    "# Examples of String Slicing:\n",
    "#1. Basic slicing (start and stop):\n",
    "\n",
    "# Example 1: Slice from index 2 to 5\n",
    "my_string = \"hello world\"\n",
    "print(my_string[2:5])  "
   ]
  },
  {
   "cell_type": "markdown",
   "id": "533813bd-19a3-4c11-9965-2c29986738e3",
   "metadata": {},
   "source": [
    "### Q2)  Explain the key features of lists in Python"
   ]
  },
  {
   "cell_type": "markdown",
   "id": "2d408c95-25d8-4d15-9cf5-9178af3dd081",
   "metadata": {},
   "source": [
    "ans:- \"\"\" Ordered: Lists maintain the order of elements.\n",
    "Mutable: You can modify elements in a list.\n",
    "Heterogeneous: A list can contain elements of different types (e.g., int, string, float).\n",
    "Dynamic Size: Lists grow and shrink dynamically as you add or remove elements.\n",
    "Indexing and Slicing: You can access elements by their index or extract sublists using slicing.\"\"\"\n",
    "\n",
    "\n"
   ]
  },
  {
   "cell_type": "code",
   "execution_count": 6,
   "id": "1f996230-75a0-4591-a351-10a06bb5e3a6",
   "metadata": {},
   "outputs": [
    {
     "name": "stdout",
     "output_type": "stream",
     "text": [
      "[1, 'banana', 3.14, True, 10]\n"
     ]
    }
   ],
   "source": [
    "#Example:\n",
    "my_list = [1, \"apple\", 3.14, True]\n",
    "my_list.append(10)     \n",
    "my_list[1] = \"banana\"  \n",
    "print(my_list)       "
   ]
  },
  {
   "cell_type": "markdown",
   "id": "72342076-ea5b-40a0-8f8b-5f54e24901f9",
   "metadata": {},
   "source": [
    "### Q3)  Describe how to access , modifye and delete elements in a list with examples?"
   ]
  },
  {
   "cell_type": "markdown",
   "id": "a4b7c3b9-772e-4302-9971-08b4a7872bf3",
   "metadata": {},
   "source": [
    "ans:- \"\"\" 1. Accessing Elements\n",
    "Use indexing to access elements by their position.\n",
    "\n",
    "Indexing starts at 0 (first element) and can be negative to access from the end.\"\"\""
   ]
  },
  {
   "cell_type": "code",
   "execution_count": 9,
   "id": "b9a72334-f43d-4382-b292-59dbf5805bac",
   "metadata": {},
   "outputs": [
    {
     "name": "stdout",
     "output_type": "stream",
     "text": [
      "20\n"
     ]
    }
   ],
   "source": [
    "#Example:\n",
    "\n",
    "\n",
    "my_list = [10, 20, 30, 40]\n",
    "print(my_list[1]) \n"
   ]
  },
  {
   "cell_type": "markdown",
   "id": "db0c39e9-8031-4c37-9561-fed4ff4bacbe",
   "metadata": {},
   "source": [
    "\"\"\"2. Modifying Elements\n",
    "Assign a new value to an index to modify a specific element.\"\"\"\n"
   ]
  },
  {
   "cell_type": "code",
   "execution_count": 10,
   "id": "3d6487c9-3f91-49d6-9238-4af84870efa3",
   "metadata": {},
   "outputs": [
    {
     "name": "stdout",
     "output_type": "stream",
     "text": [
      "[10, 20, 300, 40]\n"
     ]
    }
   ],
   "source": [
    "#Example:\n",
    "\n",
    "my_list[2] = 300\n",
    "print(my_list)  # Output: [10, 20, 300, 40]\n"
   ]
  },
  {
   "cell_type": "code",
   "execution_count": 11,
   "id": "6a1b9e9a-321b-4c79-9c8b-eb525416c537",
   "metadata": {},
   "outputs": [
    {
     "name": "stdout",
     "output_type": "stream",
     "text": [
      "[10, 300, 40]\n"
     ]
    }
   ],
   "source": [
    "#3. Deleting Elements\n",
    "#Use del to delete an element by index.\n",
    "\n",
    "#Example:\n",
    "\n",
    "del my_list[1]\n",
    "print(my_list)  \n"
   ]
  },
  {
   "cell_type": "markdown",
   "id": "063d148f-454f-40e1-b2d6-a03a40813f04",
   "metadata": {},
   "source": [
    "### 4)Compare and contrast tuples and lists with examples?\n",
    "\n"
   ]
  },
  {
   "cell_type": "code",
   "execution_count": null,
   "id": "694c607d-09e0-4f4e-8e77-5bd463b05287",
   "metadata": {},
   "outputs": [],
   "source": [
    "ans:- 1. Mutability:\n",
    "Tuple: Immutable (cannot change after creation).\n",
    "List: Mutable (elements can be added, removed, or changed).\n",
    "2. Syntax:\n",
    "Tuple: Defined with parentheses ().\n",
    "List: Defined with square brackets [].\n",
    "3. Performance:\n",
    "Tuple: Faster because of immutability.\n",
    "List: Slightly slower due to dynamic nature.\n",
    "4. Use Cases:\n",
    "Tuple: For fixed data that won’t change (e.g., coordinates).\n",
    "List: For dynamic data that needs modification (e.g., to-do list).\n",
    "5. Methods:\n",
    "Tuple: Fewer methods (e.g., count, index).\n",
    "List: More methods (e.g., append, pop, sort).\n",
    "6. Size Flexibility:\n",
    "Tuple: Fixed size.\n",
    "List: Can grow or shrink dynamically.\n"
   ]
  },
  {
   "cell_type": "code",
   "execution_count": 13,
   "id": "6e533290-d481-4b27-9dda-99f0ebc90d0b",
   "metadata": {},
   "outputs": [
    {
     "name": "stdout",
     "output_type": "stream",
     "text": [
      "2\n"
     ]
    }
   ],
   "source": [
    "my_tuple = (1, 2, 3)\n",
    "print(my_tuple[1])  # Output: 2\n"
   ]
  },
  {
   "cell_type": "code",
   "execution_count": 14,
   "id": "600b2ac1-cba8-4eac-b219-1ab566198334",
   "metadata": {},
   "outputs": [
    {
     "name": "stdout",
     "output_type": "stream",
     "text": [
      "[1, 20, 3]\n"
     ]
    }
   ],
   "source": [
    "my_list = [1, 2, 3]\n",
    "my_list[1] = 20  # Modifies element\n",
    "print(my_list)  # Output: [1, 20, 3]\n"
   ]
  },
  {
   "cell_type": "markdown",
   "id": "7b558cf1-4324-4cff-885c-4b0e53180d38",
   "metadata": {},
   "source": [
    "### 5)Describe the key features of sets and provide examples of their uses give pointa and one example"
   ]
  },
  {
   "cell_type": "markdown",
   "id": "3cadec7e-79e5-4f25-9a1b-71800d825802",
   "metadata": {},
   "source": [
    "Key Features of Sets\n",
    "Unique Elements:\n",
    "\n",
    "A set contains only unique elements; duplicates are not allowed.\n",
    "Example: {1, 2, 3} is a set, and adding another 1 will not change it.\n",
    "Unordered:\n",
    "\n",
    "The elements in a set have no particular order.\n",
    "Example: {3, 1, 2} is the same set as {1, 2, 3}.\n",
    "Defined by Membership:\n",
    "\n",
    "Membership in a set is determined by whether an element is included or not.\n",
    "Example: In the set {a, b, c}, b is a member, while d is not.\n",
    "Operations:\n",
    "\n",
    "Sets support various operations such as union, intersection, and difference.\n",
    "Example: For sets A = {1, 2, 3} and B = {3, 4, 5}, the intersection is {3}.\n",
    "No Indexing:\n",
    "\n",
    "Sets do not support indexing, slicing, or other sequence-like behavior.\n",
    "Example: You cannot access the first element of a set like you can with a list."
   ]
  },
  {
   "cell_type": "markdown",
   "id": "88a43545-b939-4324-91cc-38b8753db592",
   "metadata": {},
   "source": [
    "### 6)Descuss the use cases of tuples and sets in Python programming. give points"
   ]
  },
  {
   "cell_type": "markdown",
   "id": "4101a173-47e5-48d5-9aa4-b3bb13e8e444",
   "metadata": {},
   "source": [
    "Tuples\n",
    "Immutable Data Storage:\n",
    "\n",
    "Use for collections that shouldn’t change, like (x, y) coordinates.\n",
    "Data Integrity:\n",
    "\n",
    "Use for fixed datasets where the content must remain constant, such as records.\n",
    "Multiple Return Values:\n",
    "\n",
    "Return multiple values from a function, e.g., min_max(values).\n",
    "Dictionary Keys:\n",
    "\n",
    "Use tuples as keys in dictionaries when a composite key is needed, like (0, 0).\n",
    "Structured Data:\n",
    "\n",
    "Represent structured records with fixed fields, such as (employee_id, name).\n",
    "Sets\n",
    "Unique Collections:\n",
    "\n",
    "Store unique items, like unique_ids = {1, 2, 3}.\n",
    "Set Operations:\n",
    "\n",
    "Perform operations like union and intersection, e.g., set1 & set2.\n",
    "Membership Testing:\n",
    "\n",
    "Quickly check if an item is present, e.g., if item in my_set.\n",
    "Removing Duplicates:\n",
    "\n",
    "Remove duplicates from a list, e.g., unique_emails = set(email_list).\n",
    "Set Operations with Collections:\n",
    "\n",
    "Find differences or commonalities between collections, e.g., set1 - set2."
   ]
  },
  {
   "cell_type": "markdown",
   "id": "3afa12ca-09f5-4bc0-907e-0a29e2bab346",
   "metadata": {},
   "source": [
    "### 7)Describe how to add , modify and delete items in a dictionary with examples"
   ]
  },
  {
   "cell_type": "code",
   "execution_count": 17,
   "id": "3e83f526-3a70-4d29-baff-64b9e00741eb",
   "metadata": {},
   "outputs": [
    {
     "name": "stdout",
     "output_type": "stream",
     "text": [
      "{'a': 1, 'b': 2, 'c': 3}\n"
     ]
    }
   ],
   "source": [
    "#adding\n",
    "# Create a dictionary\n",
    "my_dict = {'a': 1, 'b': 2}\n",
    "\n",
    "# Add a new item\n",
    "my_dict['c'] = 3\n",
    "\n",
    "print(my_dict)  # Output: {'a': 1, 'b': 2, 'c': 3}\n"
   ]
  },
  {
   "cell_type": "code",
   "execution_count": 18,
   "id": "7daeb93a-56e1-4d4e-b3f0-8a1e29c0f4f2",
   "metadata": {},
   "outputs": [
    {
     "name": "stdout",
     "output_type": "stream",
     "text": [
      "{'a': 1, 'b': 20}\n"
     ]
    }
   ],
   "source": [
    "#modify \n",
    "# Create a dictionary\n",
    "my_dict = {'a': 1, 'b': 2}\n",
    "\n",
    "# Modify an existing item\n",
    "my_dict['b'] = 20\n",
    "\n",
    "print(my_dict)  # Output: {'a': 1, 'b': 20}\n"
   ]
  },
  {
   "cell_type": "code",
   "execution_count": 19,
   "id": "72e25433-e060-460a-954f-6f384f8f617d",
   "metadata": {},
   "outputs": [
    {
     "name": "stdout",
     "output_type": "stream",
     "text": [
      "{'a': 1, 'c': 3}\n",
      "2\n"
     ]
    }
   ],
   "source": [
    "#delete\n",
    "# Create a dictionary\n",
    "my_dict = {'a': 1, 'b': 2, 'c': 3}\n",
    "\n",
    "# Delete an item and get its value\n",
    "value = my_dict.pop('b')\n",
    "\n",
    "print(my_dict)  # Output: {'a': 1, 'c': 3}\n",
    "print(value)    # Output: 2\n"
   ]
  },
  {
   "cell_type": "markdown",
   "id": "f2b1e648-3946-4a43-83b8-adf2a12ae26f",
   "metadata": {},
   "source": [
    "### 8)Discuss the importance of dictionary keys being immutable and provide examples"
   ]
  },
  {
   "cell_type": "markdown",
   "id": "0eb7f7be-a2bb-4afa-8df1-699905884edd",
   "metadata": {},
   "source": [
    "Importance of Immutable Keys\n",
    "1)Consistent Hashing:\n",
    "Immutable keys have a fixed hash value, which is crucial for the dictionary’s internal hash table to quickly locate and manage items.\n",
    "\n",
    "2)Efficiency:\n",
    "Immutable keys ensure that the hash value remains constant, enabling efficient lookups, insertions, and deletions.\n"
   ]
  },
  {
   "cell_type": "code",
   "execution_count": 21,
   "id": "fd0963d8-5bc7-46c8-bb98-6d0ca115c2af",
   "metadata": {},
   "outputs": [
    {
     "name": "stdout",
     "output_type": "stream",
     "text": [
      "Alice\n"
     ]
    }
   ],
   "source": [
    "my_dict = {'name': 'Alice'}\n",
    "print(my_dict['name'])  # Output: Alice\n"
   ]
  },
  {
   "cell_type": "code",
   "execution_count": 22,
   "id": "2344184a-e99d-4adb-8e80-d1140aaf0c7b",
   "metadata": {},
   "outputs": [
    {
     "name": "stdout",
     "output_type": "stream",
     "text": [
      "point1\n"
     ]
    }
   ],
   "source": [
    "my_dict = {(1, 2): 'point1'}\n",
    "print(my_dict[(1, 2)])  # Output: point1\n"
   ]
  },
  {
   "cell_type": "code",
   "execution_count": 23,
   "id": "09dfb040-d835-4732-a976-5e54c03179bc",
   "metadata": {},
   "outputs": [
    {
     "name": "stdout",
     "output_type": "stream",
     "text": [
      "point1\n"
     ]
    }
   ],
   "source": [
    "my_dict = {('x', 1): 'point1'}\n",
    "print(my_dict[('x', 1)])  # Output: point1\n"
   ]
  },
  {
   "cell_type": "code",
   "execution_count": 24,
   "id": "4edcdcbe-f1fb-4287-a01e-f73000b45e5e",
   "metadata": {},
   "outputs": [
    {
     "ename": "TypeError",
     "evalue": "unhashable type: 'list'",
     "output_type": "error",
     "traceback": [
      "\u001b[0;31m---------------------------------------------------------------------------\u001b[0m",
      "\u001b[0;31mTypeError\u001b[0m                                 Traceback (most recent call last)",
      "Cell \u001b[0;32mIn[24], line 3\u001b[0m\n\u001b[1;32m      1\u001b[0m \u001b[38;5;66;03m# Example of a mutable key causing an error:\u001b[39;00m\n\u001b[1;32m      2\u001b[0m \u001b[38;5;66;03m# This will raise a TypeError\u001b[39;00m\n\u001b[0;32m----> 3\u001b[0m my_dict \u001b[38;5;241m=\u001b[39m {[\u001b[38;5;241m1\u001b[39m, \u001b[38;5;241m2\u001b[39m]: \u001b[38;5;124m'\u001b[39m\u001b[38;5;124mvalue\u001b[39m\u001b[38;5;124m'\u001b[39m}  \u001b[38;5;66;03m# Lists are mutable and can't be used as dictionary keys\u001b[39;00m\n",
      "\u001b[0;31mTypeError\u001b[0m: unhashable type: 'list'"
     ]
    }
   ],
   "source": [
    "# Example of a mutable key causing an error:\n",
    "# This will raise a TypeError\n",
    "my_dict = {[1, 2]: 'value'}  # Lists are mutable and can't be used as dictionary keys\n"
   ]
  },
  {
   "cell_type": "code",
   "execution_count": null,
   "id": "55736f88-4ac2-4e79-a7b4-860c82bbb26d",
   "metadata": {},
   "outputs": [],
   "source": []
  }
 ],
 "metadata": {
  "kernelspec": {
   "display_name": "Python 3 (ipykernel)",
   "language": "python",
   "name": "python3"
  },
  "language_info": {
   "codemirror_mode": {
    "name": "ipython",
    "version": 3
   },
   "file_extension": ".py",
   "mimetype": "text/x-python",
   "name": "python",
   "nbconvert_exporter": "python",
   "pygments_lexer": "ipython3",
   "version": "3.10.8"
  }
 },
 "nbformat": 4,
 "nbformat_minor": 5
}
