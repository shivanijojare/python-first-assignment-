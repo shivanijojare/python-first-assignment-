{
 "cells": [
  {
   "cell_type": "markdown",
   "metadata": {},
   "source": [
    "## 1. What are the five key concepts of Object-Oriented Programming (OOP)?"
   ]
  },
  {
   "cell_type": "markdown",
   "metadata": {},
   "source": [
    "1)Bundling data and methods, restricting direct access.\n",
    "2)Hiding complexity and showing only necessary details.\n",
    "3)Deriving new classes from existing ones for reusability.\n",
    "4)Allowing objects to be treated as instances of a common class, enabling varied behavior.\n",
    "5)Creating complex objects by combining simpler objects."
   ]
  },
  {
   "cell_type": "markdown",
   "metadata": {},
   "source": [
    "## 2. Write a Python class for a Car with attributes for make, model, and year. Include a method to display\n",
    "the car's information"
   ]
  },
  {
   "cell_type": "code",
   "execution_count": 2,
   "metadata": {},
   "outputs": [
    {
     "name": "stdout",
     "output_type": "stream",
     "text": [
      "Car Info: 2020 Toyota Camry\n"
     ]
    }
   ],
   "source": [
    "class Car:\n",
    "    def __init__(self, make, model, year):\n",
    "        self.make = make\n",
    "        self.model = model\n",
    "        self.year = year\n",
    "\n",
    "    def display_info(self):\n",
    "        print(f\"Car Info: {self.year} {self.make} {self.model}\")\n",
    "\n",
    "# Example usage\n",
    "my_car = Car(\"Toyota\", \"Camry\", 2020)\n",
    "my_car.display_info()\n"
   ]
  },
  {
   "cell_type": "markdown",
   "metadata": {},
   "source": [
    "## 3. Explain the difference between instance methods and class methods. Provide an example of each."
   ]
  },
  {
   "cell_type": "markdown",
   "metadata": {},
   "source": [
    "1)Instance Methods:\n",
    "\n",
    "Belong to an instance of the class and require an object to be created.\n",
    "They operate on the data (attributes) specific to the instance.\n",
    "The first parameter is always self, referring to the instance.\n",
    "Class Methods:\n",
    "\n",
    "2)Belong to the class itself, not instances, and can be called on the class.\n",
    "They operate on class-level data (attributes shared across all instances).\n",
    "The first parameter is cls, referring to the class.\n",
    "Use the @classmethod decorator."
   ]
  },
  {
   "cell_type": "code",
   "execution_count": 1,
   "metadata": {},
   "outputs": [
    {
     "name": "stdout",
     "output_type": "stream",
     "text": [
      "Car Info: 2020 Toyota Camry\n",
      "Total Cars: 2\n"
     ]
    }
   ],
   "source": [
    "class Car:\n",
    "    total_cars = 0  # Class attribute\n",
    "\n",
    "    def __init__(self, make, model, year):\n",
    "        self.make = make        # Instance attribute\n",
    "        self.model = model      # Instance attribute\n",
    "        self.year = year        # Instance attribute\n",
    "        Car.total_cars += 1     # Modify class attribute\n",
    "\n",
    "    # Instance method\n",
    "    def display_info(self):\n",
    "        print(f\"Car Info: {self.year} {self.make} {self.model}\")\n",
    "\n",
    "    # Class method\n",
    "    @classmethod\n",
    "    def display_total_cars(cls):\n",
    "        print(f\"Total Cars: {cls.total_cars}\")\n",
    "\n",
    "# Example usage\n",
    "car1 = Car(\"Toyota\", \"Camry\", 2020)\n",
    "car2 = Car(\"Honda\", \"Civic\", 2019)\n",
    "\n",
    "# Call instance method\n",
    "car1.display_info()\n",
    "\n",
    "# Call class method\n",
    "Car.display_total_cars()\n"
   ]
  },
  {
   "cell_type": "markdown",
   "metadata": {},
   "source": [
    "## 4. How does Python implement method overloading? Give an example"
   ]
  },
  {
   "cell_type": "markdown",
   "metadata": {},
   "source": [
    "Unlike some other programming languages, Python does not support method overloading in the traditional sense. In languages like Java or C++, you can have multiple methods with the same name but different parameters (like different types or number of arguments). However, Python does not allow this because it uses dynamic typing.\n",
    "\n",
    "Instead, Python achieves similar functionality through default arguments or by handling variable numbers of arguments using *args or **kwargs."
   ]
  },
  {
   "cell_type": "code",
   "execution_count": 3,
   "metadata": {},
   "outputs": [
    {
     "name": "stdout",
     "output_type": "stream",
     "text": [
      "5\n",
      "15\n",
      "30\n"
     ]
    }
   ],
   "source": [
    "class Calculator:\n",
    "    def add(self, a, b=0, c=0):\n",
    "        return a + b + c\n",
    "\n",
    "# Example usage\n",
    "calc = Calculator()\n",
    "\n",
    "# Calling with 1 argument\n",
    "print(calc.add(5))        # Output: 5\n",
    "\n",
    "# Calling with 2 arguments\n",
    "print(calc.add(5, 10))    # Output: 15\n",
    "\n",
    "# Calling with 3 arguments\n",
    "print(calc.add(5, 10, 15))  # Output: 30\n"
   ]
  },
  {
   "cell_type": "code",
   "execution_count": 4,
   "metadata": {},
   "outputs": [
    {
     "name": "stdout",
     "output_type": "stream",
     "text": [
      "5\n",
      "15\n",
      "30\n"
     ]
    }
   ],
   "source": [
    "class Calculator:\n",
    "    def add(self, *args):\n",
    "        return sum(args)\n",
    "\n",
    "# Example usage\n",
    "calc = Calculator()\n",
    "\n",
    "# Calling with 1 argument\n",
    "print(calc.add(5))          # Output: 5\n",
    "\n",
    "# Calling with 2 arguments\n",
    "print(calc.add(5, 10))      # Output: 15\n",
    "\n",
    "# Calling with 3 arguments\n",
    "print(calc.add(5, 10, 15))  # Output: 30\n"
   ]
  },
  {
   "cell_type": "markdown",
   "metadata": {},
   "source": [
    "## 5. What are the three types of access modifiers in Python? How are they denoted?"
   ]
  },
  {
   "cell_type": "markdown",
   "metadata": {},
   "source": [
    "Public: self.attribute\n",
    "Protected: self._attribute\n",
    "Private: self.__attribute\n",
    "\n",
    "Public:\n",
    "\n",
    "Accessible from inside and outside the class.\n",
    "Denoted by: No special symbol (default behavior).\n",
    "\n",
    "\n",
    "Protected:\n",
    "\n",
    "Accessible within the class and its subclasses (intended to be protected but not strictly enforced).\n",
    "Denoted by: A single underscore _ before the attribute name.\n",
    "\n",
    "Private:\n",
    "\n",
    "Accessible only within the class (name-mangling used to make attributes harder to access).\n",
    "Denoted by: Two underscores __ before the attribute name.\n"
   ]
  },
  {
   "cell_type": "code",
   "execution_count": 5,
   "metadata": {},
   "outputs": [
    {
     "name": "stdout",
     "output_type": "stream",
     "text": [
      "Toyota\n"
     ]
    }
   ],
   "source": [
    "class Car:\n",
    "    def __init__(self, make):\n",
    "        self.make = make  # Public attribute\n",
    "\n",
    "car = Car(\"Toyota\")\n",
    "print(car.make)  # Accessible outside the class\n"
   ]
  },
  {
   "cell_type": "code",
   "execution_count": 6,
   "metadata": {},
   "outputs": [
    {
     "name": "stdout",
     "output_type": "stream",
     "text": [
      "Tesla\n"
     ]
    }
   ],
   "source": [
    "class Car:\n",
    "    def __init__(self, make):\n",
    "        self._make = make  # Protected attribute\n",
    "\n",
    "class ElectricCar(Car):\n",
    "    def display_make(self):\n",
    "        print(self._make)  # Accessible within subclass\n",
    "\n",
    "car = ElectricCar(\"Tesla\")\n",
    "car.display_make()  # Accessible within subclass\n"
   ]
  },
  {
   "cell_type": "code",
   "execution_count": 7,
   "metadata": {},
   "outputs": [
    {
     "name": "stdout",
     "output_type": "stream",
     "text": [
      "BMW\n"
     ]
    }
   ],
   "source": [
    "class Car:\n",
    "    def __init__(self, make):\n",
    "        self.__make = make  # Private attribute\n",
    "\n",
    "    def get_make(self):\n",
    "        return self.__make  # Accessible within the class\n",
    "\n",
    "car = Car(\"BMW\")\n",
    "print(car.get_make())  # Accessible through class method\n"
   ]
  },
  {
   "cell_type": "markdown",
   "metadata": {},
   "source": []
  },
  {
   "cell_type": "markdown",
   "metadata": {},
   "source": [
    "## 6. Describe the five types of inheritance in Python. Provide a simple example of multiple inheritance"
   ]
  },
  {
   "cell_type": "markdown",
   "metadata": {},
   "source": [
    "Single Inheritance:\n",
    "\n",
    "A subclass inherits from one superclass.\n",
    "Example"
   ]
  },
  {
   "cell_type": "code",
   "execution_count": 8,
   "metadata": {},
   "outputs": [
    {
     "name": "stdout",
     "output_type": "stream",
     "text": [
      "Animal speaks\n"
     ]
    }
   ],
   "source": [
    "class Animal:\n",
    "    def speak(self):\n",
    "        print(\"Animal speaks\")\n",
    "\n",
    "class Dog(Animal):\n",
    "    pass\n",
    "\n",
    "dog = Dog()\n",
    "dog.speak()  # Inherits speak() from Animal\n"
   ]
  },
  {
   "cell_type": "markdown",
   "metadata": {},
   "source": [
    "Multiple Inheritance:\n",
    "\n",
    "A subclass inherits from more than one superclass.\n",
    "Example"
   ]
  },
  {
   "cell_type": "code",
   "execution_count": 9,
   "metadata": {},
   "outputs": [
    {
     "name": "stdout",
     "output_type": "stream",
     "text": [
      "Animal speaks\n",
      "Vehicle drives\n"
     ]
    }
   ],
   "source": [
    "class Animal:\n",
    "    def speak(self):\n",
    "        print(\"Animal speaks\")\n",
    "\n",
    "class Vehicle:\n",
    "    def drive(self):\n",
    "        print(\"Vehicle drives\")\n",
    "\n",
    "class Robot(Animal, Vehicle):\n",
    "    pass\n",
    "\n",
    "robot = Robot()\n",
    "robot.speak()  # Inherits from Animal\n",
    "robot.drive()  # Inherits from Vehicle\n"
   ]
  },
  {
   "cell_type": "markdown",
   "metadata": {},
   "source": [
    "Multilevel Inheritance:\n",
    "\n",
    "A subclass inherits from a class, which is itself a subclass of another class (inheritance chain).\n",
    "Example"
   ]
  },
  {
   "cell_type": "code",
   "execution_count": 10,
   "metadata": {},
   "outputs": [
    {
     "name": "stdout",
     "output_type": "stream",
     "text": [
      "Animal speaks\n"
     ]
    }
   ],
   "source": [
    "class Animal:\n",
    "    def speak(self):\n",
    "        print(\"Animal speaks\")\n",
    "\n",
    "class Mammal(Animal):\n",
    "    pass\n",
    "\n",
    "class Dog(Mammal):\n",
    "    pass\n",
    "\n",
    "dog = Dog()\n",
    "dog.speak()  # Inherits from Animal through Mammal\n"
   ]
  },
  {
   "cell_type": "code",
   "execution_count": null,
   "metadata": {},
   "outputs": [],
   "source": [
    "Hierarchical Inheritance:\n",
    "\n",
    "Multiple subclasses inherit from the same superclass.\n",
    "Example"
   ]
  },
  {
   "cell_type": "code",
   "execution_count": 11,
   "metadata": {},
   "outputs": [
    {
     "name": "stdout",
     "output_type": "stream",
     "text": [
      "Animal speaks\n",
      "Animal speaks\n"
     ]
    }
   ],
   "source": [
    "class Animal:\n",
    "    def speak(self):\n",
    "        print(\"Animal speaks\")\n",
    "\n",
    "class Dog(Animal):\n",
    "    pass\n",
    "\n",
    "class Cat(Animal):\n",
    "    pass\n",
    "\n",
    "dog = Dog()\n",
    "cat = Cat()\n",
    "dog.speak()  # Inherits from Animal\n",
    "cat.speak()  # Inherits from Animal\n"
   ]
  },
  {
   "cell_type": "markdown",
   "metadata": {},
   "source": [
    "Hybrid Inheritance:\n",
    "\n",
    "A combination of two or more types of inheritance (like multiple and multilevel).\n",
    "Example:"
   ]
  },
  {
   "cell_type": "code",
   "execution_count": 12,
   "metadata": {},
   "outputs": [
    {
     "name": "stdout",
     "output_type": "stream",
     "text": [
      "Animal speaks\n"
     ]
    }
   ],
   "source": [
    "class Animal:\n",
    "    def speak(self):\n",
    "        print(\"Animal speaks\")\n",
    "\n",
    "class Mammal(Animal):\n",
    "    pass\n",
    "\n",
    "class Bird(Animal):\n",
    "    pass\n",
    "\n",
    "class Bat(Mammal, Bird):\n",
    "    pass\n",
    "\n",
    "bat = Bat()\n",
    "bat.speak()  # Inherits from Animal through both Mammal and Bird\n"
   ]
  },
  {
   "cell_type": "markdown",
   "metadata": {},
   "source": [
    "## 7. What is the Method Resolution Order (MRO) in Python? How can you retrieve it programmatically?"
   ]
  },
  {
   "cell_type": "markdown",
   "metadata": {},
   "source": [
    "Method Resolution Order (MRO) is the order in which Python looks for a method or attribute in a hierarchy of classes when multiple inheritance is used. It defines the sequence in which Python searches the classes to resolve a method or attribute. Python uses the C3 Linearization (also known as the C3 superclass linearization algorithm) to compute the MRO.\n",
    "\n",
    "MRO ensures that:\n",
    "\n",
    "A class is checked before its parents.\n",
    "If a class has multiple parents, the order is determined by the MRO algorithm.\n",
    "It avoids ambiguity and ensures a consistent search order."
   ]
  },
  {
   "cell_type": "code",
   "execution_count": 13,
   "metadata": {},
   "outputs": [
    {
     "name": "stdout",
     "output_type": "stream",
     "text": [
      "Class B\n"
     ]
    }
   ],
   "source": [
    "class A:\n",
    "    def show(self):\n",
    "        print(\"Class A\")\n",
    "\n",
    "class B(A):\n",
    "    def show(self):\n",
    "        print(\"Class B\")\n",
    "\n",
    "class C(A):\n",
    "    def show(self):\n",
    "        print(\"Class C\")\n",
    "\n",
    "class D(B, C):\n",
    "    pass\n",
    "\n",
    "d = D()\n",
    "d.show()  # Output: Class B\n"
   ]
  },
  {
   "cell_type": "markdown",
   "metadata": {},
   "source": [
    "## 8. Create an abstract base class `Shape` with an abstract method `area()`. Then create two subclasses\n",
    "`Circle` and `Rectangle` that implement the `area()` method."
   ]
  },
  {
   "cell_type": "code",
   "execution_count": 14,
   "metadata": {},
   "outputs": [
    {
     "name": "stdout",
     "output_type": "stream",
     "text": [
      "Area of the circle: 78.53981633974483\n",
      "Area of the rectangle: 24\n"
     ]
    }
   ],
   "source": [
    "from abc import ABC, abstractmethod\n",
    "import math\n",
    "\n",
    "# Abstract base class\n",
    "class Shape(ABC):\n",
    "    \n",
    "    @abstractmethod\n",
    "    def area(self):\n",
    "        pass  # Abstract method, to be implemented by subclasses\n",
    "\n",
    "# Subclass for Circle\n",
    "class Circle(Shape):\n",
    "    \n",
    "    def __init__(self, radius):\n",
    "        self.radius = radius\n",
    "    \n",
    "    def area(self):\n",
    "        return math.pi * self.radius ** 2  # Formula for area of a circle\n",
    "\n",
    "# Subclass for Rectangle\n",
    "class Rectangle(Shape):\n",
    "    \n",
    "    def __init__(self, length, width):\n",
    "        self.length = length\n",
    "        self.width = width\n",
    "    \n",
    "    def area(self):\n",
    "        return self.length * self.width  # Formula for area of a rectangle\n",
    "\n",
    "# Example usage\n",
    "circle = Circle(5)  # Circle with radius 5\n",
    "rectangle = Rectangle(4, 6)  # Rectangle with length 4 and width 6\n",
    "\n",
    "print(f\"Area of the circle: {circle.area()}\")  # Outputs: Area of the circle: 78.54\n",
    "print(f\"Area of the rectangle: {rectangle.area()}\")  # Outputs: Area of the rectangle: 24\n"
   ]
  },
  {
   "cell_type": "markdown",
   "metadata": {},
   "source": [
    "## 9. Demonstrate polymorphism by creating a function that can work with different shape objects to calculate and print their areas.\n"
   ]
  },
  {
   "cell_type": "code",
   "execution_count": 15,
   "metadata": {},
   "outputs": [
    {
     "name": "stdout",
     "output_type": "stream",
     "text": [
      "The area of the Circle is: 78.53981633974483\n",
      "The area of the Rectangle is: 24\n"
     ]
    }
   ],
   "source": [
    "from abc import ABC, abstractmethod\n",
    "import math\n",
    "\n",
    "# Abstract base class\n",
    "class Shape(ABC):\n",
    "    \n",
    "    @abstractmethod\n",
    "    def area(self):\n",
    "        pass\n",
    "\n",
    "# Subclass for Circle\n",
    "class Circle(Shape):\n",
    "    \n",
    "    def __init__(self, radius):\n",
    "        self.radius = radius\n",
    "    \n",
    "    def area(self):\n",
    "        return math.pi * self.radius ** 2\n",
    "\n",
    "# Subclass for Rectangle\n",
    "class Rectangle(Shape):\n",
    "    \n",
    "    def __init__(self, length, width):\n",
    "        self.length = length\n",
    "        self.width = width\n",
    "    \n",
    "    def area(self):\n",
    "        return self.length * self.width\n",
    "\n",
    "# Function to calculate and print areas of shapes\n",
    "def print_area(shape):\n",
    "    print(f\"The area of the {shape.__class__.__name__} is: {shape.area()}\")\n",
    "\n",
    "# Example usage\n",
    "circle = Circle(5)  # Circle with radius 5\n",
    "rectangle = Rectangle(4, 6)  # Rectangle with length 4 and width 6\n",
    "\n",
    "# Demonstrating polymorphism\n",
    "print_area(circle)     # Output: The area of the Circle is: 78.53981633974483\n",
    "print_area(rectangle)  # Output: The area of the Rectangle is: 24\n"
   ]
  },
  {
   "cell_type": "markdown",
   "metadata": {},
   "source": [
    "## 10. Implement encapsulation in a `BankAccount` class with private attributes for `balance` and`account_number`Include methods for deposit, withdrawal, and balance inquiry.\n"
   ]
  },
  {
   "cell_type": "code",
   "execution_count": 16,
   "metadata": {},
   "outputs": [
    {
     "name": "stdout",
     "output_type": "stream",
     "text": [
      "Deposited: 500. New balance: 1500\n",
      "Withdrew: 200. New balance: 1300\n",
      "Account Number: 123456789, Balance: 1300\n"
     ]
    }
   ],
   "source": [
    "class BankAccount:\n",
    "    def __init__(self, account_number, initial_balance=0):\n",
    "        self.__account_number = account_number  # Private attribute\n",
    "        self.__balance = initial_balance          # Private attribute\n",
    "\n",
    "    def deposit(self, amount):\n",
    "        if amount > 0:\n",
    "            self.__balance += amount\n",
    "            print(f\"Deposited: {amount}. New balance: {self.__balance}\")\n",
    "        else:\n",
    "            print(\"Deposit amount must be positive.\")\n",
    "\n",
    "    def withdraw(self, amount):\n",
    "        if 0 < amount <= self.__balance:\n",
    "            self.__balance -= amount\n",
    "            print(f\"Withdrew: {amount}. New balance: {self.__balance}\")\n",
    "        else:\n",
    "            print(\"Insufficient funds or invalid withdrawal amount.\")\n",
    "\n",
    "    def inquire_balance(self):\n",
    "        return f\"Account Number: {self.__account_number}, Balance: {self.__balance}\"\n",
    "\n",
    "# Example usage\n",
    "account = BankAccount(\"123456789\", 1000)  # Create a BankAccount with initial balance\n",
    "\n",
    "# Perform operations\n",
    "account.deposit(500)                      # Deposit money\n",
    "account.withdraw(200)                     # Withdraw money\n",
    "print(account.inquire_balance())          # Check balance\n"
   ]
  },
  {
   "cell_type": "markdown",
   "metadata": {},
   "source": [
    "## 11. Write a class that overrides the `__str__` and `__add__` magic methods. What will these methods allow you to do?\n"
   ]
  },
  {
   "cell_type": "code",
   "execution_count": 17,
   "metadata": {},
   "outputs": [
    {
     "name": "stdout",
     "output_type": "stream",
     "text": [
      "Point(2, 3)\n",
      "Point(7, 10)\n"
     ]
    }
   ],
   "source": [
    "class Point:\n",
    "    def __init__(self, x, y):\n",
    "        self.x = x\n",
    "        self.y = y\n",
    "\n",
    "    def __str__(self):\n",
    "        return f\"Point({self.x}, {self.y})\"\n",
    "\n",
    "    def __add__(self, other):\n",
    "        if isinstance(other, Point):\n",
    "            return Point(self.x + other.x, self.y + other.y)\n",
    "        return NotImplemented\n",
    "\n",
    "# Example usage\n",
    "point1 = Point(2, 3)\n",
    "point2 = Point(5, 7)\n",
    "\n",
    "# Using __str__ method\n",
    "print(point1)  # Output: Point(2, 3)\n",
    "\n",
    "# Using __add__ method\n",
    "point3 = point1 + point2\n",
    "print(point3)  # Output: Point(7, 10)\n"
   ]
  },
  {
   "cell_type": "markdown",
   "metadata": {},
   "source": [
    "## 12. Create a decorator that measures and prints the execution time of a function."
   ]
  },
  {
   "cell_type": "code",
   "execution_count": 18,
   "metadata": {},
   "outputs": [
    {
     "name": "stdout",
     "output_type": "stream",
     "text": [
      "Execution time of example_function: 0.1186 seconds\n",
      "Result: 499999500000\n"
     ]
    }
   ],
   "source": [
    "import time\n",
    "\n",
    "def timer_decorator(func):\n",
    "    def wrapper(*args, **kwargs):\n",
    "        start_time = time.time()  # Record the start time\n",
    "        result = func(*args, **kwargs)  # Call the original function\n",
    "        end_time = time.time()  # Record the end time\n",
    "        execution_time = end_time - start_time  # Calculate the execution time\n",
    "        print(f\"Execution time of {func.__name__}: {execution_time:.4f} seconds\")\n",
    "        return result  # Return the result of the original function\n",
    "    return wrapper\n",
    "\n",
    "# Example usage\n",
    "@timer_decorator\n",
    "def example_function(n):\n",
    "    total = 0\n",
    "    for i in range(n):\n",
    "        total += i\n",
    "    return total\n",
    "\n",
    "# Call the decorated function\n",
    "result = example_function(1000000)\n",
    "print(f\"Result: {result}\")\n"
   ]
  },
  {
   "cell_type": "markdown",
   "metadata": {},
   "source": [
    "## 13. Explain the concept of the Diamond Problem in multiple inheritance. How does Python resolve it?"
   ]
  },
  {
   "cell_type": "markdown",
   "metadata": {},
   "source": [
    "The Diamond Problem occurs in multiple inheritance scenarios where a class inherits from two classes that both inherit from a common superclass. This can create ambiguity in the method resolution order (MRO) when trying to determine which method to call, as there are two paths to the superclass."
   ]
  },
  {
   "cell_type": "code",
   "execution_count": 19,
   "metadata": {},
   "outputs": [
    {
     "name": "stdout",
     "output_type": "stream",
     "text": [
      "Class B\n"
     ]
    }
   ],
   "source": [
    "class A:\n",
    "    def display(self):\n",
    "        print(\"Class A\")\n",
    "\n",
    "class B(A):\n",
    "    def display(self):\n",
    "        print(\"Class B\")\n",
    "\n",
    "class C(A):\n",
    "    def display(self):\n",
    "        print(\"Class C\")\n",
    "\n",
    "class D(B, C):\n",
    "    pass\n",
    "\n",
    "# Example usage\n",
    "d = D()\n",
    "d.display()  # Which display() should be called?\n"
   ]
  },
  {
   "cell_type": "markdown",
   "metadata": {},
   "source": [
    "Python uses the C3 Linearization (or C3 superclass linearization) algorithm to resolve the Diamond Problem. This algorithm creates a linear order of classes that defines a consistent MRO, ensuring that:\n",
    "\n",
    "The Diamond Problem highlights the complexity of multiple inheritance where ambiguity can arise from having multiple paths to a superclass.\n",
    "Python resolves this issue using the C3 Linearization algorithm, which ensures a consistent and unambiguous method resolution order, allowing for clear and predictable behavior when dealing with multiple inheritance."
   ]
  },
  {
   "cell_type": "markdown",
   "metadata": {},
   "source": [
    "## 14. Write a class method that keeps track of the number of instances created from a class."
   ]
  },
  {
   "cell_type": "code",
   "execution_count": 20,
   "metadata": {},
   "outputs": [
    {
     "name": "stdout",
     "output_type": "stream",
     "text": [
      "Number of instances created: 3\n"
     ]
    }
   ],
   "source": [
    "class InstanceCounter:\n",
    "    instance_count = 0  # Class attribute to keep track of the number of instances\n",
    "\n",
    "    def __init__(self):\n",
    "        InstanceCounter.instance_count += 1  # Increment the count when a new instance is created\n",
    "\n",
    "    @classmethod\n",
    "    def get_instance_count(cls):\n",
    "        return cls.instance_count  # Return the current count of instances\n",
    "\n",
    "# Example usage\n",
    "obj1 = InstanceCounter()\n",
    "obj2 = InstanceCounter()\n",
    "obj3 = InstanceCounter()\n",
    "\n",
    "# Get the number of instances created\n",
    "print(f\"Number of instances created: {InstanceCounter.get_instance_count()}\")\n"
   ]
  },
  {
   "cell_type": "markdown",
   "metadata": {},
   "source": [
    "## 15. Implement a static method in a class that checks if a given year is a leap year."
   ]
  },
  {
   "cell_type": "code",
   "execution_count": 21,
   "metadata": {},
   "outputs": [
    {
     "name": "stdout",
     "output_type": "stream",
     "text": [
      "2024 is a leap year.\n",
      "1900 is not a leap year.\n"
     ]
    }
   ],
   "source": [
    "class YearChecker:\n",
    "    @staticmethod\n",
    "    def is_leap_year(year):\n",
    "        # A year is a leap year if:\n",
    "        # 1. It is divisible by 4\n",
    "        # 2. It is not divisible by 100 unless it is also divisible by 400\n",
    "        return (year % 4 == 0 and year % 100 != 0) or (year % 400 == 0)\n",
    "\n",
    "# Example usage\n",
    "year = 2024\n",
    "if YearChecker.is_leap_year(year):\n",
    "    print(f\"{year} is a leap year.\")\n",
    "else:\n",
    "    print(f\"{year} is not a leap year.\")\n",
    "\n",
    "year = 1900\n",
    "if YearChecker.is_leap_year(year):\n",
    "    print(f\"{year} is a leap year.\")\n",
    "else:\n",
    "    print(f\"{year} is not a leap year.\")\n"
   ]
  }
 ],
 "metadata": {
  "kernelspec": {
   "display_name": "Python 3",
   "language": "python",
   "name": "python3"
  },
  "language_info": {
   "codemirror_mode": {
    "name": "ipython",
    "version": 3
   },
   "file_extension": ".py",
   "mimetype": "text/x-python",
   "name": "python",
   "nbconvert_exporter": "python",
   "pygments_lexer": "ipython3",
   "version": "3.10.11"
  }
 },
 "nbformat": 4,
 "nbformat_minor": 2
}
