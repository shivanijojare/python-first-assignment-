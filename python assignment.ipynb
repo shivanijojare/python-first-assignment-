{
 "cells": [
  {
   "cell_type": "markdown",
   "id": "40968ebf-3a6c-46ea-b4a7-5783d64dd49b",
   "metadata": {},
   "source": [
    "# Python assignment"
   ]
  },
  {
   "cell_type": "markdown",
   "id": "86618124-474e-4931-9b94-f153f235ed7d",
   "metadata": {},
   "source": [
    "### Q1) explain the key featues of Python that make it a popular choice for programming ?\n",
    "\n",
    "\n"
   ]
  },
  {
   "cell_type": "markdown",
   "id": "b0c90d85-b3c5-4bca-be0a-272ca0ad7743",
   "metadata": {},
   "source": [
    "\"\"\"  Ans :- Python is one of the most popular programming languages :- (1) Simple and Readable Syntax:\n",
    "Python's syntax is clear and easy to understand, making it an excellent language for beginners. It emphasizes readability, which allows developers to write clean and maintainable code.  \n",
    "(2) :- VersatilityPython is a general-purpose language that can be used for various applications, including web development, data analysis, artificial intelligence, machine learning, automation, scientific computing, and more.\n",
    "(3) Python supports multiple programming paradigms, including procedural, object-oriented, and functional programming. This allows developers to choose the best approach for their specific needs.\"\"\"\n"
   ]
  },
  {
   "cell_type": "markdown",
   "id": "71bbab9d-8093-4485-9404-b8c9230ca5be",
   "metadata": {},
   "source": [
    "### Q2)  Describe the role of predefined keywords in Python and provide exaples of how they are used in a program?\n"
   ]
  },
  {
   "cell_type": "markdown",
   "id": "28865bc8-c123-4b55-9af8-d40db7684cd2",
   "metadata": {},
   "source": [
    "\"\"\" Ans:- \n",
    "Predefined keywords in Python, often referred to as reserved words or keywords, are the building blocks of Python programming. \n",
    "These keywords have a special meaning in Python and are used to define the syntax and structure of Python code.\n",
    "They cannot be used as identifiers ( variable names, function names) because they are reserved for specific language functionalities\n",
    "*Defining Control Flow: Keywords like if, else, elif, for, while,\n",
    "and break are used to control the flow of the program by allowing conditional execution and loops.\"\"\"\n",
    "\n"
   ]
  },
  {
   "cell_type": "code",
   "execution_count": 2,
   "id": "0955995f-4208-40f1-88bf-021a55fdd2a3",
   "metadata": {},
   "outputs": [
    {
     "name": "stdin",
     "output_type": "stream",
     "text": [
      "enter your marks 99\n"
     ]
    },
    {
     "name": "stdout",
     "output_type": "stream",
     "text": [
      "pass great maarks keep it up\n"
     ]
    }
   ],
   "source": [
    "a =int(input (\"enter your marks\"))\n",
    "if  a<=100 and a>=80:\n",
    "    print (\"pass great maarks keep it up\")\n",
    "elif a<=79 and a>=65:\n",
    "    print(\"pass good try more hard\")\n",
    "elif a<=64 and a>=50:\n",
    "    print (\"pass better \")\n",
    "else:\n",
    "    print (\"fail \")\n",
    "\n"
   ]
  },
  {
   "cell_type": "markdown",
   "id": "cb0ed5d4-c78a-4002-9e9f-34bae94f2ec5",
   "metadata": {},
   "source": [
    "### Q3) Compare and contrast mutable and immutable objects in Python with examples?"
   ]
  },
  {
   "cell_type": "markdown",
   "id": "ae0ee730-ea95-4bd6-ba96-5b8d5a04c255",
   "metadata": {},
   "source": [
    "\"\"\" ans:- In Python, objects are categorized as either mutable or immutable based on whether their state\n",
    "(Mutable Objects)\n",
    "Mutable objects can be changed after their creation. This means you can modify the content of these objects without creating a new object.\n",
    "\n",
    "Examples of Mutable Objects:\n",
    "\n",
    "1)Lists\n",
    "2)Dictionaries\n",
    "3)Sets \"\"\""
   ]
  },
  {
   "cell_type": "code",
   "execution_count": 4,
   "id": "b67196cc-f2ce-45e4-940b-90dfa6cf4322",
   "metadata": {},
   "outputs": [
    {
     "name": "stdout",
     "output_type": "stream",
     "text": [
      "[1, 2, 3, 4]\n"
     ]
    }
   ],
   "source": [
    "my_list= [1,2,3,4,]\n",
    "print (my_list)"
   ]
  },
  {
   "cell_type": "code",
   "execution_count": 8,
   "id": "6b549dde-1abc-453c-b85e-b92325159de5",
   "metadata": {},
   "outputs": [
    {
     "data": {
      "text/plain": [
       "list"
      ]
     },
     "execution_count": 8,
     "metadata": {},
     "output_type": "execute_result"
    }
   ],
   "source": [
    "type (my_list)"
   ]
  },
  {
   "cell_type": "code",
   "execution_count": 11,
   "id": "0a99c2d8-7edb-44cc-b8e6-21c56d466dee",
   "metadata": {},
   "outputs": [
    {
     "data": {
      "text/plain": [
       "[1, 10, 3, 4]"
      ]
     },
     "execution_count": 11,
     "metadata": {},
     "output_type": "execute_result"
    }
   ],
   "source": [
    "my_list[1] =10\n",
    "my_list"
   ]
  },
  {
   "cell_type": "markdown",
   "id": "121b305f-953b-44b0-9abf-89e8de812a3f",
   "metadata": {},
   "source": [
    "\"\"\"Immutable objects cannot be changed after their creation. Any attempt to modify an immutable object results in the creation of a new object with the modified value.\n",
    "\n",
    "Examples of Immutable Objects:\n",
    "\n",
    "1)Strings\n",
    "2)Tuples\n",
    "3)Floats \"\"\""
   ]
  },
  {
   "cell_type": "code",
   "execution_count": 12,
   "id": "5f7ce336-0cda-45e8-9079-722648fc2cf3",
   "metadata": {},
   "outputs": [
    {
     "data": {
      "text/plain": [
       "'my name is shivani'"
      ]
     },
     "execution_count": 12,
     "metadata": {},
     "output_type": "execute_result"
    }
   ],
   "source": [
    "my_string =(\"my name is shivani\")\n",
    "my_string"
   ]
  },
  {
   "cell_type": "code",
   "execution_count": 13,
   "id": "79fad009-88b6-4e93-98cb-10ccbf107e8f",
   "metadata": {},
   "outputs": [
    {
     "data": {
      "text/plain": [
       "str"
      ]
     },
     "execution_count": 13,
     "metadata": {},
     "output_type": "execute_result"
    }
   ],
   "source": [
    "type (my_string)"
   ]
  },
  {
   "cell_type": "code",
   "execution_count": 23,
   "id": "35ab46b4-f196-4375-b6b5-acf541a48347",
   "metadata": {},
   "outputs": [
    {
     "ename": "TypeError",
     "evalue": "'str' object does not support item assignment",
     "output_type": "error",
     "traceback": [
      "\u001b[0;31m---------------------------------------------------------------------------\u001b[0m",
      "\u001b[0;31mTypeError\u001b[0m                                 Traceback (most recent call last)",
      "Cell \u001b[0;32mIn[23], line 1\u001b[0m\n\u001b[0;32m----> 1\u001b[0m \u001b[43mmy_string\u001b[49m\u001b[43m[\u001b[49m\u001b[38;5;241;43m0\u001b[39;49m\u001b[43m]\u001b[49m\u001b[38;5;241m=\u001b[39m\u001b[38;5;124m\"\u001b[39m\u001b[38;5;124mr\u001b[39m\u001b[38;5;124m\"\u001b[39m\n\u001b[1;32m      3\u001b[0m my_string\n",
      "\u001b[0;31mTypeError\u001b[0m: 'str' object does not support item assignment"
     ]
    }
   ],
   "source": [
    "my_string[0]=\"r\"\n",
    "\n",
    "my_string"
   ]
  },
  {
   "cell_type": "markdown",
   "id": "b295c10a-d435-4ec2-8c54-80e43b36e64f",
   "metadata": {},
   "source": [
    "### Q4)  Discuss the different types of operators in Python and provide examples of how they are used?\n"
   ]
  },
  {
   "cell_type": "markdown",
   "id": "cbbdf8f9-d94e-4c31-92be-978e1b2b5dde",
   "metadata": {},
   "source": [
    "#Arithmetic Operators\n",
    "#Arithmetic operators are used to perform mathematical operations\n"
   ]
  },
  {
   "cell_type": "code",
   "execution_count": 25,
   "id": "c960ccc7-7761-4f9c-a760-650a793fd6f2",
   "metadata": {},
   "outputs": [
    {
     "data": {
      "text/plain": [
       "15"
      ]
     },
     "execution_count": 25,
     "metadata": {},
     "output_type": "execute_result"
    }
   ],
   "source": [
    "#Addition (+): Adds two values.\n",
    "\n",
    "x = 10\n",
    "y = 5\n",
    "x + y  \n"
   ]
  },
  {
   "cell_type": "code",
   "execution_count": 26,
   "id": "9a4eab2c-ae5d-4f17-b797-2a6f0069d02d",
   "metadata": {},
   "outputs": [
    {
     "data": {
      "text/plain": [
       "9"
      ]
     },
     "execution_count": 26,
     "metadata": {},
     "output_type": "execute_result"
    }
   ],
   "source": [
    "#Subtraction (-): Subtracts the second value from the first.\n",
    "\n",
    "x=15\n",
    "y=6\n",
    "x-y\n"
   ]
  },
  {
   "cell_type": "code",
   "execution_count": 27,
   "id": "d1b26592-6d88-4d1f-86ff-e8f02c2987ec",
   "metadata": {},
   "outputs": [
    {
     "data": {
      "text/plain": [
       "50"
      ]
     },
     "execution_count": 27,
     "metadata": {},
     "output_type": "execute_result"
    }
   ],
   "source": [
    "#Multiplication (*): Multiplies two values.\n",
    "x=10\n",
    "y=5\n",
    "x*y"
   ]
  },
  {
   "cell_type": "code",
   "execution_count": 28,
   "id": "2275073b-d406-457a-9f1e-26bb65c7b0a9",
   "metadata": {},
   "outputs": [
    {
     "data": {
      "text/plain": [
       "6.0"
      ]
     },
     "execution_count": 28,
     "metadata": {},
     "output_type": "execute_result"
    }
   ],
   "source": [
    "#Division (/): Divides the first value by the second, resulting in a float.\n",
    "x=24\n",
    "y=4\n",
    "x/y"
   ]
  },
  {
   "cell_type": "markdown",
   "id": "be85ce15-9c6b-4f3b-857f-8b7dbb834952",
   "metadata": {},
   "source": [
    "### Q5) explain the concept of type casting in Python with examples?"
   ]
  },
  {
   "cell_type": "markdown",
   "id": "27370055-e00f-4bf5-ba06-d5d55b8f36be",
   "metadata": {},
   "source": [
    "\"\"\" ans:-Types of Type Casting in Python\n",
    "There are two types of type casting in Python:\n",
    "\n",
    "Implicit Type Casting\n",
    "Explicit Type Casting\n",
    "1. Implicit Type Casting\n",
    "In implicit type casting, Python automatically converts one data type to another without the need for explicit instruction from the programmer. This usually happens when a smaller data type is converted to a larger data type to prevent data loss.\"\"\"\n",
    "\n"
   ]
  },
  {
   "cell_type": "code",
   "execution_count": 40,
   "id": "96516193-9728-4887-a5cd-ce7e8186a339",
   "metadata": {},
   "outputs": [
    {
     "name": "stdout",
     "output_type": "stream",
     "text": [
      "7.0\n",
      "<class 'float'>\n"
     ]
    }
   ],
   "source": [
    "#Example:\n",
    "# Implicit type casting\n",
    "x = 5    # x is an integer\n",
    "y = 2.0  # y is a float\n",
    "x + y  # Python automatically converts x to a float\n",
    "print(7.0)   # Output: 7.0\n",
    "print(type(7.0))  # Output: <class 'float'>\n",
    "#In the example above, Python implicitly converts the integer x to a float before performing the addition, ensuring the result is a float.\n"
   ]
  },
  {
   "cell_type": "markdown",
   "id": "f23c70bc-5141-45f1-8672-ab38afff633b",
   "metadata": {},
   "source": [
    "\"\"\"Type casting is important when dealing with operations that require specific data types. For example:\n",
    "\n",
    "When combining different data types in arithmetic operations.\n",
    "When passing arguments to functions that expect a particular data type.\n",
    "When formatting data for output.\"\"\"\n",
    "\n",
    "\n",
    "\n"
   ]
  },
  {
   "cell_type": "code",
   "execution_count": 41,
   "id": "f17cb5a8-958f-4390-ab22-32e93c2451da",
   "metadata": {},
   "outputs": [
    {
     "name": "stdout",
     "output_type": "stream",
     "text": [
      "(1, 2, 3)\n",
      "<class 'tuple'>\n"
     ]
    }
   ],
   "source": [
    "#Converting List to Tuple:\n",
    "\n",
    "\n",
    "x = [1, 2, 3]\n",
    "y = tuple(x)  # Explicitly casting list to tuple\n",
    "print(y)  # Output: (1, 2, 3)\n",
    "print(type(y))  # Output: <class 'tuple'>"
   ]
  },
  {
   "cell_type": "markdown",
   "id": "78b6c9cd-e1ba-4e8c-ae98-2f573cd03bd6",
   "metadata": {},
   "source": [
    "### Q6) How do conditional statements work in Python? Illustrate with examples?"
   ]
  },
  {
   "cell_type": "markdown",
   "id": "07782735-37ae-4bdc-bad6-d62e79a9ccfd",
   "metadata": {},
   "source": [
    "\"\"\" ans:- Python are used to perform different actions based on different conditions. They allow your program to make decisions and execute specific blocks of code depending on whether a condition is True or False.\n",
    "\n",
    "Key Conditional Statements in Python\n",
    "if Statement\n",
    "if-else Statement\n",
    "if-elif-else Statement\n",
    "Nested if Statements \"\"\""
   ]
  },
  {
   "cell_type": "code",
   "execution_count": 42,
   "id": "6ecf339f-6c88-4eaf-8a12-15c781cf610e",
   "metadata": {},
   "outputs": [
    {
     "name": "stdout",
     "output_type": "stream",
     "text": [
      "10\n"
     ]
    }
   ],
   "source": [
    "x = 10\n",
    "if x > 5:\n",
    "    print(x )"
   ]
  },
  {
   "cell_type": "markdown",
   "id": "605020d4-9e3b-4a0b-88c9-4e8c9e1b05d6",
   "metadata": {},
   "source": [
    "\"\"\"2) if-else StatementThe if-else statement provides an alternative action if the condition is False.\n",
    "If the condition is True, the code inside the if block is executed; otherwise, the code inside the else block is executed.\"\"\""
   ]
  },
  {
   "cell_type": "code",
   "execution_count": 47,
   "id": "316f78a4-8703-4018-90d1-3f0131a1b035",
   "metadata": {},
   "outputs": [
    {
     "name": "stdout",
     "output_type": "stream",
     "text": [
      "x is not greater than 5\n"
     ]
    }
   ],
   "source": [
    "x = 3\n",
    "if x > 5:\n",
    "    print(\"x is greater than 5\")\n",
    "else:\n",
    "    print(\"x is not greater than 5\")\n"
   ]
  },
  {
   "cell_type": "markdown",
   "id": "34dd5345-ed91-40e7-87e0-07ea742e59e1",
   "metadata": {},
   "source": [
    "\"\"\"3) if-elif-else Statement\n",
    "The if-elif-else statement is used when you have multiple conditions to evaluate.\n",
    "Python will evaluate each condition in order, and the first condition that evaluates to True will execute its corresponding code block. \n",
    "If none of the conditions are True, the code inside the else block is executed.\"\"\"\n"
   ]
  },
  {
   "cell_type": "code",
   "execution_count": 48,
   "id": "5c887d2a-669e-4ad2-9a2e-f5e39a25de77",
   "metadata": {},
   "outputs": [
    {
     "name": "stdout",
     "output_type": "stream",
     "text": [
      "x is equal to 7\n"
     ]
    }
   ],
   "source": [
    "x = 7\n",
    "if x > 10:\n",
    "    print(\"x is greater than 10\")\n",
    "elif x == 7:\n",
    "    print(\"x is equal to 7\")\n",
    "elif x < 5:\n",
    "    print(\"x is less than 5\")\n",
    "else:\n",
    "    print(\"x is between 5 and 10\")"
   ]
  },
  {
   "cell_type": "markdown",
   "id": "cc00c5fd-4036-4efa-9f69-3b62c94ae9a7",
   "metadata": {},
   "source": [
    "\"\"\"Nested if Statements\n",
    "Nested if statements are if statements within another if or else block.\n",
    "This allows for more complex decision-making by checking multiple conditions in sequence.\"\"\""
   ]
  },
  {
   "cell_type": "code",
   "execution_count": 52,
   "id": "4c276ee7-b76c-45fc-864c-86d4f07d7ee4",
   "metadata": {},
   "outputs": [
    {
     "name": "stdout",
     "output_type": "stream",
     "text": [
      "x is greater than 10\n",
      "x is not greater than 20\n"
     ]
    }
   ],
   "source": [
    "x = 15\n",
    "if x > 10:\n",
    "    print(\"x is greater than 10\")\n",
    "    if x > 20:\n",
    "        print(\"x is also greater than 20\")\n",
    "    else:\n",
    "        print(\"x is not greater than 20\")\n",
    "else:\n",
    "    print(\"x is not greater than 10\")"
   ]
  },
  {
   "cell_type": "markdown",
   "id": "dcc14af9-2606-48c9-acdf-e250bd7c0b00",
   "metadata": {},
   "source": [
    "### Q7) Describe the different types of loops in Python and their use cases with examples?"
   ]
  },
  {
   "cell_type": "markdown",
   "id": "6bc93ff4-8f21-4498-9805-a955e902b950",
   "metadata": {},
   "source": [
    "\"\"\" ans:- Loops in Python allow you to execute a block of code repeatedly as long as a certain condition is met.\n",
    "Python provides several types of loops, each suited for different use cases.\n",
    "\n",
    "Types of Loops in Python\n",
    "for Loop\n",
    "while Loop\n",
    "nested Loops\n",
    "1. for Loop\n",
    "The for loop is used to iterate over a sequence (like a list, tuple, string, or range)\n",
    "and execute a block of code for each item in the sequence.\"\"\""
   ]
  },
  {
   "cell_type": "markdown",
   "id": "8af617ca-e6db-48c2-82e7-ce869d75a7c9",
   "metadata": {},
   "source": [
    "\n",
    "#Syntax:\n",
    "\n",
    "#python\n",
    "#for variable in sequence:\n",
    "   "
   ]
  },
  {
   "cell_type": "code",
   "execution_count": 54,
   "id": "1c6f0804-86e2-4004-b5ed-68b081cd31cb",
   "metadata": {},
   "outputs": [
    {
     "name": "stdout",
     "output_type": "stream",
     "text": [
      "apple\n",
      "banana\n",
      "cherry\n"
     ]
    }
   ],
   "source": [
    "fruits = [\"apple\", \"banana\", \"cherry\"]\n",
    "for fruit in fruits:\n",
    "    print(fruit)\n"
   ]
  },
  {
   "cell_type": "code",
   "execution_count": 55,
   "id": "5823fd46-2c10-4cd1-aed1-29e61ba6702a",
   "metadata": {},
   "outputs": [
    {
     "name": "stdout",
     "output_type": "stream",
     "text": [
      "0\n",
      "1\n",
      "2\n",
      "3\n",
      "4\n"
     ]
    }
   ],
   "source": [
    "#Example 2: Using range() to repeat actions\n",
    "\n",
    "\n",
    "\n",
    "for i in range(5):\n",
    "    print(i)"
   ]
  },
  {
   "cell_type": "markdown",
   "id": "4a0ca976-62f4-4bef-96a7-23d7033f873e",
   "metadata": {},
   "source": [
    "#2. while Loop\n",
    "#The while loop repeatedly executes a block of code as long as the specified condition remains True. It is used when the number of iterations is not known beforehand.\n",
    "\n",
    "#Syntax:\n",
    "#while condition:\n",
    "   "
   ]
  },
  {
   "cell_type": "code",
   "execution_count": 58,
   "id": "0b97ff13-6e44-44ac-97b1-7c8df30b934c",
   "metadata": {},
   "outputs": [
    {
     "name": "stdin",
     "output_type": "stream",
     "text": [
      "Enter the password:  hi\n",
      "Enter the password:  \n",
      "Enter the password:  lestmein\n",
      "Enter the password:  hiii\n",
      "Enter the password:  \"\"\n",
      "Enter the password:  \n",
      "Enter the password:  letmein\n"
     ]
    },
    {
     "name": "stdout",
     "output_type": "stream",
     "text": [
      "Access granted!\n"
     ]
    }
   ],
   "source": [
    "password = \"\"\n",
    "while password != \"letmein\":\n",
    "    password = input(\"Enter the password: \")\n",
    "print(\"Access granted!\")\n"
   ]
  },
  {
   "cell_type": "markdown",
   "id": "fca0b091-3a03-4805-a40f-1187798bd880",
   "metadata": {},
   "source": [
    "\"\"\"3 Nested Loops\n",
    "Nested loops are loops within loops. The inner loop is executed for each iteration of the outer loop.\n",
    "\n",
    "Syntax:\n",
    "\n",
    "for variable1 in sequence1:\n",
    "    for variable2 in sequence2:\"\"\""
   ]
  },
  {
   "cell_type": "code",
   "execution_count": 59,
   "id": "cb2838af-720f-4ffe-a652-5e16f13a1994",
   "metadata": {},
   "outputs": [
    {
     "name": "stdout",
     "output_type": "stream",
     "text": [
      "1 2 3 \n",
      "2 4 6 \n",
      "3 6 9 \n"
     ]
    }
   ],
   "source": [
    "for i in range(1, 4):\n",
    "    for j in range(1, 4):\n",
    "        print(i * j, end=\" \")\n",
    "        \n",
    "    print()  # To move to the next line\n",
    " \n",
    "  "
   ]
  },
  {
   "cell_type": "code",
   "execution_count": null,
   "id": "8ec606ed-db2f-46d8-9188-3a7276030a2d",
   "metadata": {},
   "outputs": [],
   "source": [
    "\n",
    " "
   ]
  },
  {
   "cell_type": "code",
   "execution_count": null,
   "id": "bc3c4fac-174e-4780-928d-1421979a7faf",
   "metadata": {},
   "outputs": [],
   "source": []
  },
  {
   "cell_type": "code",
   "execution_count": null,
   "id": "12a0efd8-dec4-4ab7-86b4-aaeeccd8cc33",
   "metadata": {},
   "outputs": [],
   "source": []
  },
  {
   "cell_type": "code",
   "execution_count": null,
   "id": "b2e91fd7-8e20-480b-834d-c58735b3d87f",
   "metadata": {},
   "outputs": [],
   "source": []
  },
  {
   "cell_type": "code",
   "execution_count": null,
   "id": "2a8f54fd-7fe1-4729-a733-1ece87fe449b",
   "metadata": {},
   "outputs": [],
   "source": []
  },
  {
   "cell_type": "code",
   "execution_count": null,
   "id": "9d94ba9d-fc93-467c-8e78-b41935b7add4",
   "metadata": {},
   "outputs": [],
   "source": []
  },
  {
   "cell_type": "code",
   "execution_count": null,
   "id": "672d8f7a-5005-42d3-9d41-b99c57ecfe51",
   "metadata": {},
   "outputs": [],
   "source": []
  },
  {
   "cell_type": "code",
   "execution_count": null,
   "id": "33d60ffd-50ed-4732-83f9-84ba378f70d5",
   "metadata": {},
   "outputs": [],
   "source": []
  }
 ],
 "metadata": {
  "kernelspec": {
   "display_name": "Python 3 (ipykernel)",
   "language": "python",
   "name": "python3"
  },
  "language_info": {
   "codemirror_mode": {
    "name": "ipython",
    "version": 3
   },
   "file_extension": ".py",
   "mimetype": "text/x-python",
   "name": "python",
   "nbconvert_exporter": "python",
   "pygments_lexer": "ipython3",
   "version": "3.10.8"
  }
 },
 "nbformat": 4,
 "nbformat_minor": 5
}
