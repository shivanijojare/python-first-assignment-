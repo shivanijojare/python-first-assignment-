{
 "cells": [
  {
   "cell_type": "code",
   "execution_count": 3,
   "id": "ebe41b15-4187-4aa0-94e5-473ec62c10fc",
   "metadata": {},
   "outputs": [
    {
     "name": "stdin",
     "output_type": "stream",
     "text": [
      "what is your name shivani\n"
     ]
    },
    {
     "name": "stdout",
     "output_type": "stream",
     "text": [
      " welcome shivani\n"
     ]
    }
   ],
   "source": [
    "name =input(\"what is your name\") \n",
    "\n",
    "\n",
    "if name ==\"shivani\":\n",
    "    print(\" welcome shivani\")\n",
    "else :\n",
    "    print (\"login with the name shivani\")"
   ]
  },
  {
   "cell_type": "code",
   "execution_count": 10,
   "id": "0b41e72c-5467-4de2-bd4f-419e4122a055",
   "metadata": {},
   "outputs": [
    {
     "name": "stdin",
     "output_type": "stream",
     "text": [
      "whether sunny or raniny raniny\n"
     ]
    },
    {
     "name": "stdout",
     "output_type": "stream",
     "text": [
      "i will not go for play in ground \n"
     ]
    }
   ],
   "source": [
    "a=input (\"whether sunny or raniny\")\n",
    "\n",
    "\n",
    "\n",
    "if a == \"sunny\":\n",
    "    print (\"than i will go to play\")\n",
    "    \n",
    "else:\n",
    "    print(\"i will not go for play in ground \") \n",
    "\n"
   ]
  },
  {
   "cell_type": "code",
   "execution_count": 25,
   "id": "9b2c9974-1101-47cf-944d-557186647c7b",
   "metadata": {},
   "outputs": [
    {
     "name": "stdin",
     "output_type": "stream",
     "text": [
      "enter your marks 92\n"
     ]
    },
    {
     "name": "stdout",
     "output_type": "stream",
     "text": [
      "best marks \n"
     ]
    }
   ],
   "source": [
    "a=int(input (\"enter your marks\"))\n",
    "if a<=100 and a>=80:\n",
    "    print (\"best marks \")\n",
    "elif a<=79 and a>=50 :\n",
    "    print (\"avrage marks\")\n",
    "\n",
    "else :\n",
    "    print (\"poor work hard more \")\n",
    "\n",
    "   \n",
    "    "
   ]
  },
  {
   "cell_type": "code",
   "execution_count": 2,
   "id": "58e574d3-34d5-42b0-88c2-3473a8b732ee",
   "metadata": {},
   "outputs": [
    {
     "name": "stdout",
     "output_type": "stream",
     "text": [
      "test\n"
     ]
    }
   ],
   "source": [
    "print (\"test\")"
   ]
  }
 ],
 "metadata": {
  "kernelspec": {
   "display_name": "Python 3 (ipykernel)",
   "language": "python",
   "name": "python3"
  },
  "language_info": {
   "codemirror_mode": {
    "name": "ipython",
    "version": 3
   },
   "file_extension": ".py",
   "mimetype": "text/x-python",
   "name": "python",
   "nbconvert_exporter": "python",
   "pygments_lexer": "ipython3",
   "version": "3.10.8"
  }
 },
 "nbformat": 4,
 "nbformat_minor": 5
}
